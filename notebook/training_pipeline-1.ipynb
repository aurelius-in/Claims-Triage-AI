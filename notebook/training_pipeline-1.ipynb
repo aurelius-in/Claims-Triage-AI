{
 "cells": [
  {
   "cell_type": "markdown",
   "id": "41fef7b5",
   "metadata": {},
   "source": [
    "# Claims Triage - Training Pipeline\n",
    "This notebook builds a basic ML classifier to predict claim urgency and risk."
   ]
  },
  {
   "cell_type": "code",
   "execution_count": null,
   "id": "7c412b8e",
   "metadata": {},
   "outputs": [],
   "source": [
    "import pandas as pd\n",
    "from sklearn.model_selection import train_test_split\n",
    "from sklearn.feature_extraction.text import TfidfVectorizer\n",
    "from sklearn.linear_model import LogisticRegression\n",
    "from sklearn.pipeline import Pipeline\n",
    "from sklearn.metrics import classification_report\n",
    "import joblib"
   ]
  },
  {
   "cell_type": "markdown",
   "id": "b53d63ab",
   "metadata": {},
   "source": [
    "## Load and Label Data"
   ]
  },
  {
   "cell_type": "code",
   "execution_count": null,
   "id": "2e39d3a2",
   "metadata": {},
   "outputs": [],
   "source": [
    "data = pd.read_csv('../data/claims_sample.csv')\n",
    "data['urgency_label'] = data['claim_text'].apply(lambda x: 'High' if 'emergency' in x.lower() else 'Low')\n",
    "data['risk_label'] = data['claim_text'].apply(lambda x: 'High' if 'surgery' in x.lower() or 'fracture' in x.lower() else 'Low')\n",
    "data.head()"
   ]
  },
  {
   "cell_type": "markdown",
   "id": "45fd7ddf",
   "metadata": {},
   "source": [
    "## Train Model for Urgency"
   ]
  },
  {
   "cell_type": "code",
   "execution_count": null,
   "id": "b945b2a0",
   "metadata": {},
   "outputs": [],
   "source": [
    "X = data['claim_text']\n",
    "y_urgency = data['urgency_label']\n",
    "\n",
    "X_train, X_test, y_train, y_test = train_test_split(X, y_urgency, test_size=0.2, random_state=42)\n",
    "\n",
    "urgency_model = Pipeline([\n",
    "    ('tfidf', TfidfVectorizer()),\n",
    "    ('clf', LogisticRegression())\n",
    "])\n",
    "\n",
    "urgency_model.fit(X_train, y_train)\n",
    "y_pred = urgency_model.predict(X_test)\n",
    "print(\"Urgency Classification Report:\")\n",
    "print(classification_report(y_test, y_pred))\n",
    "\n",
    "joblib.dump(urgency_model, '../api/model/urgency_model.pkl')"
   ]
  },
  {
   "cell_type": "markdown",
   "id": "f3f0f9d7",
   "metadata": {},
   "source": [
    "## Train Model for Risk"
   ]
  },
  {
   "cell_type": "code",
   "execution_count": null,
   "id": "5329ccec",
   "metadata": {},
   "outputs": [],
   "source": [
    "y_risk = data['risk_label']\n",
    "\n",
    "X_train_risk, X_test_risk, y_train_risk, y_test_risk = train_test_split(X, y_risk, test_size=0.2, random_state=42)\n",
    "\n",
    "risk_model = Pipeline([\n",
    "    ('tfidf', TfidfVectorizer()),\n",
    "    ('clf', LogisticRegression())\n",
    "])\n",
    "\n",
    "risk_model.fit(X_train_risk, y_train_risk)\n",
    "y_pred_risk = risk_model.predict(X_test_risk)\n",
    "print(\"Risk Classification Report:\")\n",
    "print(classification_report(y_test_risk, y_pred_risk))\n",
    "\n",
    "joblib.dump(risk_model, '../api/model/risk_model.pkl')"
   ]
  }
 ],
 "metadata": {
  "kernelspec": {
   "display_name": "Python 3",
   "name": "python3"
  }
 },
 "nbformat": 4,
 "nbformat_minor": 5
}

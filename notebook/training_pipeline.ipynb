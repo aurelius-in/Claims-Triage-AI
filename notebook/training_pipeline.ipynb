{
 "cells": [
  {
   "cell_type": "markdown",
   "id": "0cb990a4",
   "metadata": {},
   "source": [
    "# Claims Triage - Training Pipeline\n",
    "This notebook builds a basic ML classifier to predict claim urgency and risk."
   ]
  },
  {
   "cell_type": "code",
   "execution_count": null,
   "id": "e660623f",
   "metadata": {},
   "outputs": [],
   "source": [
    "import pandas as pd\n",
    "from sklearn.model_selection import train_test_split\n",
    "from sklearn.feature_extraction.text import TfidfVectorizer\n",
    "from sklearn.linear_model import LogisticRegression\n",
    "from sklearn.pipeline import Pipeline\n",
    "from sklearn.metrics import classification_report\n",
    "import joblib"
   ]
  },
  {
   "cell_type": "markdown",
   "id": "e88c7dba",
   "metadata": {},
   "source": [
    "## Load Data"
   ]
  },
  {
   "cell_type": "code",
   "execution_count": null,
   "id": "237a7313",
   "metadata": {},
   "outputs": [],
   "source": [
    "data = pd.read_csv('../data/claims_sample.csv')\n",
    "data['urgency_label'] = data['claim_text'].apply(lambda x: 'High' if 'emergency' in x.lower() else 'Low')\n",
    "data['risk_label'] = data['claim_text'].apply(lambda x: 'High' if 'surgery' in x.lower() or 'fracture' in x.lower() else 'Low')\n",
    "data.head()"
   ]
  },
  {
   "cell_type": "markdown",
   "id": "c5c94e5a",
   "metadata": {},
   "source": [
    "## Train Model for Urgency"
   ]
  },
  {
   "cell_type": "code",
   "execution_count": null,
   "id": "52c80afd",
   "metadata": {},
   "outputs": [],
   "source": [
    "X = data['claim_text']\n",
    "y_urgency = data['urgency_label']\n",
    "\n",
    "X_train, X_test, y_train, y_test = train_test_split(X, y_urgency, test_size=0.2, random_state=42)\n",
    "\n",
    "urgency_model = Pipeline([\n",
    "    ('tfidf', TfidfVectorizer()),\n",
    "    ('clf', LogisticRegression())\n",
    "])\n",
    "\n",
    "urgency_model.fit(X_train, y_train)\n",
    "y_pred = urgency_model.predict(X_test)\n",
    "print(\"Urgency Classification Report:\")\n",
    "print(classification_report(y_test, y_pred))\n",
    "\n",
    "joblib.dump(urgency_model, '../api/model/urgency_model.pkl')"
   ]
  },
  {
   "cell_type": "markdown",
   "id": "090f5ec7",
   "metadata": {},
   "source": [
    "## Train Model for Risk"
   ]
  },
  {
   "cell_type": "code",
   "execution_count": null,
   "id": "27c71019",
   "metadata": {},
   "outputs": [],
   "source": [
    "y_risk = data['risk_label']\n",
    "\n",
    "X_train_risk, X_test_risk, y_train_risk, y_test_risk = train_test_split(X, y_risk, test_size=0.2, random_state=42)\n",
    "\n",
    "risk_model = Pipeline([\n",
    "    ('tfidf', TfidfVectorizer()),\n",
    "    ('clf', LogisticRegression())\n",
    "])\n",
    "\n",
    "risk_model.fit(X_train_risk, y_train_risk)\n",
    "y_pred_risk = risk_model.predict(X_test_risk)\n",
    "print(\"Risk Classification Report:\")\n",
    "print(classification_report(y_test_risk, y_pred_risk))\n",
    "\n",
    "joblib.dump(risk_model, '../api/model/risk_model.pkl')"
   ]
  }
 ],
 "metadata": {},
 "nbformat": 4,
 "nbformat_minor": 5
}
